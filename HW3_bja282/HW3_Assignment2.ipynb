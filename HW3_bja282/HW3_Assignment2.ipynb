{
 "cells": [
  {
   "cell_type": "markdown",
   "metadata": {},
   "source": [
    "<h2>IDEA:</h2>\n",
    "There is higher usage of citi bikes during rush hours on weekdays than during the same hours on weekends <i>as a result of commuters using the bikes</i>. \n",
    "\n",
    "<h2>NULL HYPOTHESIS:</h2>\n",
    "The ratio of bike trips on weekends during weekday rush hours, 7-10 AM and 4-7 PM, is the same or higher compared to the same hours on weekdays. "
   ]
  },
  {
   "cell_type": "code",
   "execution_count": 281,
   "metadata": {
    "collapsed": false
   },
   "outputs": [
    {
     "name": "stdout",
     "output_type": "stream",
     "text": [
      "Populating the interactive namespace from numpy and matplotlib\n"
     ]
    }
   ],
   "source": [
    "from __future__  import print_function, division\n",
    "import pylab as pl\n",
    "import pandas as pd\n",
    "import numpy as np\n",
    "import os\n",
    "import json\n",
    "from pandas import Timestamp\n",
    "import zipfile \n",
    "%pylab inline\n",
    "\n",
    "if os.getenv ('PUI2016') is None:\n",
    "    print (\"Must set env variable PUI2016\")\n",
    "if os.getenv ('PUIDATA') is None:\n",
    "    print (\"Must set env variable PUI2016\")"
   ]
  },
  {
   "cell_type": "code",
   "execution_count": 282,
   "metadata": {
    "collapsed": false
   },
   "outputs": [
    {
     "data": {
      "text/plain": [
       "'/home/cusp/bja282/PUI2016'"
      ]
     },
     "execution_count": 282,
     "metadata": {},
     "output_type": "execute_result"
    }
   ],
   "source": [
    "os.getenv('PUI2016')"
   ]
  },
  {
   "cell_type": "code",
   "execution_count": 283,
   "metadata": {
    "collapsed": false
   },
   "outputs": [],
   "source": [
    "### A function to download the data: simple bash commands can be run by preceding them with !\n",
    "### but more complex command lines with variable arguments need to be build as strng and run with os.system\n",
    "\n",
    "datestring='201407'\n",
    "\n",
    "def getCitiBikeCSV(datestring):\n",
    "    os.system(\"!curl -O https://s3.amazonaws.com/tripdata/\" + datestring + \"-citibike-tripdata.zip\")\n",
    "### unzip the csv \n",
    "    os.system(\"unzip \" + os.getenv(\"PUIDATA\") + \"/\" + datestring + \"-citibike-tripdata.zip\")\n",
    "## NOTE: old csv citibike data had a different name structure. "
   ]
  },
  {
   "cell_type": "code",
   "execution_count": 284,
   "metadata": {
    "collapsed": false
   },
   "outputs": [
    {
     "name": "stdout",
     "output_type": "stream",
     "text": [
      "  % Total    % Received % Xferd  Average Speed   Time    Time     Time  Current\n",
      "                                 Dload  Upload   Total   Spent    Left  Speed\n",
      "100 29.4M  100 29.4M    0     0  37.6M      0 --:--:-- --:--:-- --:--:-- 46.6M\n"
     ]
    }
   ],
   "source": [
    "#getCitiBikeCSV(datestring)\n",
    "!curl -O 'https://s3.amazonaws.com/tripdata/201407-citibike-tripdata.zip'"
   ]
  },
  {
   "cell_type": "code",
   "execution_count": 285,
   "metadata": {
    "collapsed": false
   },
   "outputs": [],
   "source": [
    "#Unzip zip file to attain CSV.\n",
    "#Reference on how to unzip files: https://docs.python.org/2/library/zipfile.html\n",
    "#More reference: http://stackoverflow.com/questions/32073792/typeerror-using-zipfile-extractall\n",
    "zf = zipfile.ZipFile('201407-citibike-tripdata.zip', mode='r')\n",
    "zf.extractall()\n",
    "zf.close()"
   ]
  },
  {
   "cell_type": "code",
   "execution_count": 286,
   "metadata": {
    "collapsed": false
   },
   "outputs": [
    {
     "name": "stdout",
     "output_type": "stream",
     "text": [
      "Citi Bike Data:\n"
     ]
    },
    {
     "data": {
      "text/html": [
       "<div>\n",
       "<table border=\"1\" class=\"dataframe\">\n",
       "  <thead>\n",
       "    <tr style=\"text-align: right;\">\n",
       "      <th></th>\n",
       "      <th>tripduration</th>\n",
       "      <th>starttime</th>\n",
       "      <th>stoptime</th>\n",
       "      <th>start station id</th>\n",
       "      <th>start station name</th>\n",
       "      <th>start station latitude</th>\n",
       "      <th>start station longitude</th>\n",
       "      <th>end station id</th>\n",
       "      <th>end station name</th>\n",
       "      <th>end station latitude</th>\n",
       "      <th>end station longitude</th>\n",
       "      <th>bikeid</th>\n",
       "      <th>usertype</th>\n",
       "      <th>birth year</th>\n",
       "      <th>gender</th>\n",
       "    </tr>\n",
       "    <tr>\n",
       "      <th>date</th>\n",
       "      <th></th>\n",
       "      <th></th>\n",
       "      <th></th>\n",
       "      <th></th>\n",
       "      <th></th>\n",
       "      <th></th>\n",
       "      <th></th>\n",
       "      <th></th>\n",
       "      <th></th>\n",
       "      <th></th>\n",
       "      <th></th>\n",
       "      <th></th>\n",
       "      <th></th>\n",
       "      <th></th>\n",
       "      <th></th>\n",
       "    </tr>\n",
       "  </thead>\n",
       "  <tbody>\n",
       "    <tr>\n",
       "      <th>2014-07-01 00:00:04</th>\n",
       "      <td>404</td>\n",
       "      <td>2014-07-01 00:00:04</td>\n",
       "      <td>2014-07-01 00:06:48</td>\n",
       "      <td>545</td>\n",
       "      <td>E 23 St &amp; 1 Ave</td>\n",
       "      <td>40.736502</td>\n",
       "      <td>-73.978095</td>\n",
       "      <td>402</td>\n",
       "      <td>Broadway &amp; E 22 St</td>\n",
       "      <td>40.740343</td>\n",
       "      <td>-73.989551</td>\n",
       "      <td>19578</td>\n",
       "      <td>Subscriber</td>\n",
       "      <td>1987</td>\n",
       "      <td>2</td>\n",
       "    </tr>\n",
       "    <tr>\n",
       "      <th>2014-07-01 00:00:06</th>\n",
       "      <td>850</td>\n",
       "      <td>2014-07-01 00:00:06</td>\n",
       "      <td>2014-07-01 00:14:16</td>\n",
       "      <td>238</td>\n",
       "      <td>Bank St &amp; Washington St</td>\n",
       "      <td>40.736197</td>\n",
       "      <td>-74.008592</td>\n",
       "      <td>458</td>\n",
       "      <td>11 Ave &amp; W 27 St</td>\n",
       "      <td>40.751396</td>\n",
       "      <td>-74.005226</td>\n",
       "      <td>19224</td>\n",
       "      <td>Subscriber</td>\n",
       "      <td>1987</td>\n",
       "      <td>1</td>\n",
       "    </tr>\n",
       "    <tr>\n",
       "      <th>2014-07-01 00:00:21</th>\n",
       "      <td>1550</td>\n",
       "      <td>2014-07-01 00:00:21</td>\n",
       "      <td>2014-07-01 00:26:11</td>\n",
       "      <td>223</td>\n",
       "      <td>W 13 St &amp; 7 Ave</td>\n",
       "      <td>40.737815</td>\n",
       "      <td>-73.999947</td>\n",
       "      <td>539</td>\n",
       "      <td>Metropolitan Ave &amp; Bedford Ave</td>\n",
       "      <td>40.715348</td>\n",
       "      <td>-73.960241</td>\n",
       "      <td>17627</td>\n",
       "      <td>Subscriber</td>\n",
       "      <td>1973</td>\n",
       "      <td>2</td>\n",
       "    </tr>\n",
       "    <tr>\n",
       "      <th>2014-07-01 00:00:29</th>\n",
       "      <td>397</td>\n",
       "      <td>2014-07-01 00:00:29</td>\n",
       "      <td>2014-07-01 00:07:06</td>\n",
       "      <td>224</td>\n",
       "      <td>Spruce St &amp; Nassau St</td>\n",
       "      <td>40.711464</td>\n",
       "      <td>-74.005524</td>\n",
       "      <td>2008</td>\n",
       "      <td>Little West St &amp; 1 Pl</td>\n",
       "      <td>40.705693</td>\n",
       "      <td>-74.016777</td>\n",
       "      <td>15304</td>\n",
       "      <td>Subscriber</td>\n",
       "      <td>1982</td>\n",
       "      <td>1</td>\n",
       "    </tr>\n",
       "    <tr>\n",
       "      <th>2014-07-01 00:00:37</th>\n",
       "      <td>609</td>\n",
       "      <td>2014-07-01 00:00:37</td>\n",
       "      <td>2014-07-01 00:10:46</td>\n",
       "      <td>346</td>\n",
       "      <td>Bank St &amp; Hudson St</td>\n",
       "      <td>40.736529</td>\n",
       "      <td>-74.006180</td>\n",
       "      <td>521</td>\n",
       "      <td>8 Ave &amp; W 31 St</td>\n",
       "      <td>40.750450</td>\n",
       "      <td>-73.994811</td>\n",
       "      <td>20062</td>\n",
       "      <td>Subscriber</td>\n",
       "      <td>1972</td>\n",
       "      <td>2</td>\n",
       "    </tr>\n",
       "  </tbody>\n",
       "</table>\n",
       "</div>"
      ],
      "text/plain": [
       "                     tripduration            starttime             stoptime  \\\n",
       "date                                                                          \n",
       "2014-07-01 00:00:04           404  2014-07-01 00:00:04  2014-07-01 00:06:48   \n",
       "2014-07-01 00:00:06           850  2014-07-01 00:00:06  2014-07-01 00:14:16   \n",
       "2014-07-01 00:00:21          1550  2014-07-01 00:00:21  2014-07-01 00:26:11   \n",
       "2014-07-01 00:00:29           397  2014-07-01 00:00:29  2014-07-01 00:07:06   \n",
       "2014-07-01 00:00:37           609  2014-07-01 00:00:37  2014-07-01 00:10:46   \n",
       "\n",
       "                     start station id       start station name  \\\n",
       "date                                                             \n",
       "2014-07-01 00:00:04               545          E 23 St & 1 Ave   \n",
       "2014-07-01 00:00:06               238  Bank St & Washington St   \n",
       "2014-07-01 00:00:21               223          W 13 St & 7 Ave   \n",
       "2014-07-01 00:00:29               224    Spruce St & Nassau St   \n",
       "2014-07-01 00:00:37               346      Bank St & Hudson St   \n",
       "\n",
       "                     start station latitude  start station longitude  \\\n",
       "date                                                                   \n",
       "2014-07-01 00:00:04               40.736502               -73.978095   \n",
       "2014-07-01 00:00:06               40.736197               -74.008592   \n",
       "2014-07-01 00:00:21               40.737815               -73.999947   \n",
       "2014-07-01 00:00:29               40.711464               -74.005524   \n",
       "2014-07-01 00:00:37               40.736529               -74.006180   \n",
       "\n",
       "                     end station id                end station name  \\\n",
       "date                                                                  \n",
       "2014-07-01 00:00:04             402              Broadway & E 22 St   \n",
       "2014-07-01 00:00:06             458                11 Ave & W 27 St   \n",
       "2014-07-01 00:00:21             539  Metropolitan Ave & Bedford Ave   \n",
       "2014-07-01 00:00:29            2008           Little West St & 1 Pl   \n",
       "2014-07-01 00:00:37             521                 8 Ave & W 31 St   \n",
       "\n",
       "                     end station latitude  end station longitude  bikeid  \\\n",
       "date                                                                       \n",
       "2014-07-01 00:00:04             40.740343             -73.989551   19578   \n",
       "2014-07-01 00:00:06             40.751396             -74.005226   19224   \n",
       "2014-07-01 00:00:21             40.715348             -73.960241   17627   \n",
       "2014-07-01 00:00:29             40.705693             -74.016777   15304   \n",
       "2014-07-01 00:00:37             40.750450             -73.994811   20062   \n",
       "\n",
       "                       usertype birth year  gender  \n",
       "date                                                \n",
       "2014-07-01 00:00:04  Subscriber       1987       2  \n",
       "2014-07-01 00:00:06  Subscriber       1987       1  \n",
       "2014-07-01 00:00:21  Subscriber       1973       2  \n",
       "2014-07-01 00:00:29  Subscriber       1982       1  \n",
       "2014-07-01 00:00:37  Subscriber       1972       2  "
      ]
     },
     "execution_count": 286,
     "metadata": {},
     "output_type": "execute_result"
    }
   ],
   "source": [
    "datestring='201407'\n",
    "df_Citi = pd.read_csv(os.getenv('PUI2016') + '_bja282/HW3_bja282/2014-07 - Citi Bike trip data.csv')\n",
    "df_Citi['date'] = pd.to_datetime(df_Citi['starttime'])\n",
    "df_Citi.set_index('date', inplace=True)\n",
    "print(\"Citi Bike Data:\")\n",
    "df_Citi.head()"
   ]
  },
  {
   "cell_type": "code",
   "execution_count": 287,
   "metadata": {
    "collapsed": false
   },
   "outputs": [
    {
     "data": {
      "text/plain": [
       "Index([u'tripduration', u'starttime', u'stoptime', u'start station id',\n",
       "       u'start station name', u'start station latitude',\n",
       "       u'start station longitude', u'end station id', u'end station name',\n",
       "       u'end station latitude', u'end station longitude', u'bikeid',\n",
       "       u'usertype', u'birth year', u'gender'],\n",
       "      dtype='object')"
      ]
     },
     "execution_count": 287,
     "metadata": {},
     "output_type": "execute_result"
    }
   ],
   "source": [
    "##List columns, in order to determine which ones to drop. \n",
    "df_Citi.columns"
   ]
  },
  {
   "cell_type": "code",
   "execution_count": 288,
   "metadata": {
    "collapsed": false
   },
   "outputs": [
    {
     "data": {
      "text/plain": [
       "Index([], dtype='object')"
      ]
     },
     "execution_count": 288,
     "metadata": {},
     "output_type": "execute_result"
    }
   ],
   "source": [
    "#Drop columns irrelevant to the exploration.\n",
    "df_Citi.drop(['tripduration', 'stoptime', 'start station id',\n",
    "       'start station name', 'start station latitude',\n",
    "       'start station longitude', 'end station id', 'end station name',\n",
    "       'end station latitude', 'end station longitude', 'bikeid', 'usertype',\n",
    "       'birth year', 'gender', 'starttime'], axis=1, inplace=True)\n",
    "\n",
    "df_Citi.columns"
   ]
  },
  {
   "cell_type": "code",
   "execution_count": 289,
   "metadata": {
    "collapsed": false
   },
   "outputs": [
    {
     "data": {
      "text/html": [
       "<div>\n",
       "<table border=\"1\" class=\"dataframe\">\n",
       "  <thead>\n",
       "    <tr style=\"text-align: right;\">\n",
       "      <th></th>\n",
       "    </tr>\n",
       "    <tr>\n",
       "      <th>date</th>\n",
       "    </tr>\n",
       "  </thead>\n",
       "  <tbody>\n",
       "    <tr>\n",
       "      <th>2014-07-01 00:00:04</th>\n",
       "    </tr>\n",
       "    <tr>\n",
       "      <th>2014-07-01 00:00:06</th>\n",
       "    </tr>\n",
       "    <tr>\n",
       "      <th>2014-07-01 00:00:21</th>\n",
       "    </tr>\n",
       "    <tr>\n",
       "      <th>2014-07-01 00:00:29</th>\n",
       "    </tr>\n",
       "    <tr>\n",
       "      <th>2014-07-01 00:00:37</th>\n",
       "    </tr>\n",
       "  </tbody>\n",
       "</table>\n",
       "</div>"
      ],
      "text/plain": [
       "Empty DataFrame\n",
       "Columns: []\n",
       "Index: [2014-07-01 00:00:04, 2014-07-01 00:00:06, 2014-07-01 00:00:21, 2014-07-01 00:00:29, 2014-07-01 00:00:37]"
      ]
     },
     "execution_count": 289,
     "metadata": {},
     "output_type": "execute_result"
    }
   ],
   "source": [
    "df_Citi.head()"
   ]
  },
  {
   "cell_type": "code",
   "execution_count": 290,
   "metadata": {
    "collapsed": false
   },
   "outputs": [],
   "source": [
    "#Used StackExchange response to inform boolean logic in df_citi Morning and Evening Rush hours dataframe columns below.\n",
    "#http://stackoverflow.com/questions/35004241/pandas-between-time-boolean\n",
    "df_Citi['MorningRush']=df_Citi.index.isin(df_Citi.between_time('6:30', '10:00', include_start=True, include_end=True).index)\n",
    "df_Citi['EveningRush']=df_Citi.index.isin(df_Citi.between_time('15:30', '20:00', include_start=True, include_end=True).index)\n",
    "df_morningrush = df_Citi.between_time(\"7:00\",\"10:00\")\n",
    "df_eveningrush = df_Citi.between_time(\"15:30\", \"20:00\")\n",
    "df_Citi['Rush']=np.where(np.logical_or(df_Citi['MorningRush']==True, df_Citi['EveningRush']==True), 1, 0)"
   ]
  },
  {
   "cell_type": "code",
   "execution_count": 291,
   "metadata": {
    "collapsed": false
   },
   "outputs": [],
   "source": [
    "df_Citi.reset_index(inplace=True)"
   ]
  },
  {
   "cell_type": "code",
   "execution_count": 292,
   "metadata": {
    "collapsed": false
   },
   "outputs": [
    {
     "data": {
      "text/html": [
       "<div>\n",
       "<table border=\"1\" class=\"dataframe\">\n",
       "  <thead>\n",
       "    <tr style=\"text-align: right;\">\n",
       "      <th></th>\n",
       "      <th>date</th>\n",
       "      <th>MorningRush</th>\n",
       "      <th>EveningRush</th>\n",
       "      <th>Rush</th>\n",
       "    </tr>\n",
       "  </thead>\n",
       "  <tbody>\n",
       "    <tr>\n",
       "      <th>0</th>\n",
       "      <td>2014-07-01 00:00:04</td>\n",
       "      <td>False</td>\n",
       "      <td>False</td>\n",
       "      <td>0</td>\n",
       "    </tr>\n",
       "    <tr>\n",
       "      <th>1</th>\n",
       "      <td>2014-07-01 00:00:06</td>\n",
       "      <td>False</td>\n",
       "      <td>False</td>\n",
       "      <td>0</td>\n",
       "    </tr>\n",
       "    <tr>\n",
       "      <th>2</th>\n",
       "      <td>2014-07-01 00:00:21</td>\n",
       "      <td>False</td>\n",
       "      <td>False</td>\n",
       "      <td>0</td>\n",
       "    </tr>\n",
       "    <tr>\n",
       "      <th>3</th>\n",
       "      <td>2014-07-01 00:00:29</td>\n",
       "      <td>False</td>\n",
       "      <td>False</td>\n",
       "      <td>0</td>\n",
       "    </tr>\n",
       "    <tr>\n",
       "      <th>4</th>\n",
       "      <td>2014-07-01 00:00:37</td>\n",
       "      <td>False</td>\n",
       "      <td>False</td>\n",
       "      <td>0</td>\n",
       "    </tr>\n",
       "  </tbody>\n",
       "</table>\n",
       "</div>"
      ],
      "text/plain": [
       "                 date MorningRush EveningRush  Rush\n",
       "0 2014-07-01 00:00:04       False       False     0\n",
       "1 2014-07-01 00:00:06       False       False     0\n",
       "2 2014-07-01 00:00:21       False       False     0\n",
       "3 2014-07-01 00:00:29       False       False     0\n",
       "4 2014-07-01 00:00:37       False       False     0"
      ]
     },
     "execution_count": 292,
     "metadata": {},
     "output_type": "execute_result"
    }
   ],
   "source": [
    "df_Citi.head()"
   ]
  },
  {
   "cell_type": "code",
   "execution_count": 293,
   "metadata": {
    "collapsed": false
   },
   "outputs": [
    {
     "data": {
      "image/png": "[encoded data removed]",
      "text/plain": [
       "<matplotlib.figure.Figure at 0x7f19683ef890>"
      ]
     },
     "metadata": {},
     "output_type": "display_data"
    }
   ],
   "source": [
    "##Based on Prof. Bianco's example.\n",
    "fig=pl.figure(figsize(15,15))\n",
    "\n",
    "#instad of plotting with matplotlib i.e. plot() i use the plot method in pandas\n",
    "norm_rush = 1\n",
    "((df_Citi['date'][df_Citi['Rush'] == 1].groupby([df_Citi['date'].dt.weekday]).count()) / norm_rush).plot(kind=\"bar\", \n",
    "                                                                                         color='indianred', \n",
    "                                                                                         alpha=0.5)\n",
    "\n",
    "norm_norush = 1\n",
    "ax = ((df_Citi['date'][df_Citi['Rush'] == 0].groupby([df_Citi['date'].dt.weekday]).count()) / norm_norush).plot(kind=\"bar\",\n",
    "                                                                                            color='blue',\n",
    "                                                                                              alpha=0.5)\n",
    "\n",
    "tmp = ax.xaxis.set_ticklabels(['Mon','Tue','Wed','Thu','Fri','Sat','Sun'], fontsize=20)"
   ]
  },
  {
   "cell_type": "code",
   "execution_count": 294,
   "metadata": {
    "collapsed": false,
    "scrolled": true
   },
   "outputs": [
    {
     "data": {
      "text/plain": [
       "<matplotlib.legend.Legend at 0x7f195b5e3650>"
      ]
     },
     "execution_count": 294,
     "metadata": {},
     "output_type": "execute_result"
    },
    {
     "data": {
      "image/png": "[encoded data removed]",
      "text/plain": [
       "<matplotlib.figure.Figure at 0x7f19656737d0>"
      ]
     },
     "metadata": {},
     "output_type": "display_data"
    }
   ],
   "source": [
    "##Based on Prof. Bianco's example.\n",
    "fig=pl.figure(figsize(15,10))\n",
    "\n",
    "counts_rush = df_Citi.date[df_Citi.Rush == 1].groupby([df_Citi.date.dt.weekday]).count()\n",
    "norm_rush = 1\n",
    "error_rush = np.sqrt(counts_rush)\n",
    "ax=((counts_rush) / norm_rush).plot(kind=\"bar\",color='IndianRed',  yerr=[\n",
    "            ((error_rush) / norm_rush, (error_rush) / norm_rush)], label='Rush Hour Commutes')\n",
    "\n",
    "\n",
    "counts_norush = df_Citi.date[df_Citi.Rush == 0].groupby([df_Citi.date.dt.weekday]).count()\n",
    "norm_norush = 1\n",
    "error_norush=np.sqrt(counts_norush)\n",
    "((counts_norush) / norm_norush).plot(kind=\"bar\", alpha=0.5, yerr=[((error_norush) / norm_norush, (error_norush) / norm_norush)], label='Off-Peak Hour Commutes')\n",
    "ax.xaxis.set_ticklabels(['Mon','Tue','Wed','Thu','Fri','Sat','Sun'], fontsize=20)\n",
    "ax.set_ylabel (\"Number of rides\")\n",
    "ax.set_xlabel (\"Day of the week\")\n",
    "pl.title(\"July 2014 Citibike Rides: Rush & Off-Peak Hours\")\n",
    "pl.legend(['Rush Hours','Off-Peak Hours'],fontsize=20)"
   ]
  },
  {
   "cell_type": "code",
   "execution_count": 295,
   "metadata": {
    "collapsed": false
   },
   "outputs": [
    {
     "name": "stdout",
     "output_type": "stream",
     "text": [
      "Rush Hour: week:453761.000, weekend:88001.000, week error:673.618, weekend error:296.650\n",
      "Off-Peak Hours: week:300989.000, weekend:126091.000, week error:548.625, weekend error:355.093\n"
     ]
    },
    {
     "data": {
      "text/plain": [
       "<matplotlib.legend.Legend at 0x7f1990687310>"
      ]
     },
     "execution_count": 295,
     "metadata": {},
     "output_type": "execute_result"
    },
    {
     "data": {
      "image/png": "[encoded data removed]",
      "text/plain": [
       "<matplotlib.figure.Figure at 0x7f1965684390>"
      ]
     },
     "metadata": {},
     "output_type": "display_data"
    }
   ],
   "source": [
    "##Based on Prof. Bianco's example.\n",
    "fig = pl.figure(figsize(15,6))\n",
    "ax1 = fig.add_subplot(121)\n",
    "ax2 = fig.add_subplot(122)\n",
    "ax1.set_xticks([])\n",
    "ax2.set_xticks([])\n",
    "week_rush = sum(counts_rush[:-2]) * 1.0 / norm_rush\n",
    "weekend_rush = sum(counts_rush[-2:]) * 1.0 / norm_rush\n",
    "eweek_rush = np.sqrt(sum(error_rush[:-2]**2)) / norm_rush\n",
    "eweekend_rush = np.sqrt(sum(error_rush[-2:]**2)) / norm_rush\n",
    "\n",
    "week_norush = sum(counts_norush[:-2]) * 1.0 / norm_norush\n",
    "weekend_norush = sum(counts_norush[-2:]) * 1.0 / norm_norush\n",
    "eweek_norush = np.sqrt(sum(error_norush[:-2]**2)) / norm_norush\n",
    "eweekend_norush = np.sqrt(sum(error_norush[-2:]**2)) / norm_norush\n",
    "\n",
    "print(\"Rush Hour: week:{0:.3f}, weekend:{1:.3f}, week error:{2:.3f}, weekend error:{3:.3f}\"\\\n",
    "      .format(week_rush, weekend_rush, eweek_rush, eweekend_rush))\n",
    "print(\"Off-Peak Hours: week:{0:.3f}, weekend:{1:.3f}, week error:{2:.3f}, weekend error:{3:.3f}\"\\\n",
    "      .format(week_norush, weekend_norush, eweek_norush, eweekend_norush))\n",
    "\n",
    "ax1.errorbar([0.4], [week_rush], yerr=[eweek_rush], fmt='o', label='Rush Hours', color='indianred')\n",
    "ax1.errorbar([0.2], [week_norush], yerr=[eweek_norush], fmt='o', label='Off-Peak Hours', color='blue')\n",
    "ax1.set_xlim(0, 0.5)\n",
    "ax2.errorbar([0.4], [weekend_rush], yerr=[eweekend_rush], fmt='o', label='Rush Hours', color='indianred')\n",
    "ax2.errorbar([0.2], [weekend_norush], yerr=[eweekend_norush], fmt='o', label='Off-Peak Hours', color='blue')\n",
    "ax1.set_xlim(0, 0.5)\n",
    "ax1.set_title(\"week days\")\n",
    "ax2.set_title(\"weekends\")\n",
    "ax2.set_ylabel(\"Fraction of normalized rides by rush/off-peak hours\")\n",
    "ax1.set_ylabel(\"Fraction of normalized rides by rush/off-peak hours\")\n",
    "\n",
    "pl.xlim(-0.5, 1.5)\n",
    "pl.legend(fontsize = 20)"
   ]
  },
  {
   "cell_type": "markdown",
   "metadata": {},
   "source": [
    "## Z-Test"
   ]
  },
  {
   "cell_type": "code",
   "execution_count": 296,
   "metadata": {
    "collapsed": false
   },
   "outputs": [
    {
     "name": "stdout",
     "output_type": "stream",
     "text": [
      "The percentage of rush riders for week days is: 0.601207022193\n",
      "The percentage of rush riders for weekends is: 0.41104291613\n",
      "we must assess the statistical significance\n",
      "0.559185089003\n",
      "The z score is 156.422030299\n",
      "is the p value 0.00 smaller than the critical value 0.05?\n",
      "YES!\n",
      "the Null hypothesis is rejected\n"
     ]
    }
   ],
   "source": [
    "##COMPLETE\n",
    "# Calculating the proportions for rush hour riders and doing z test\n",
    "alpha=0.05\n",
    "\n",
    "#df_nonRushDay = df.between_time(\"9:30\",\"15:30\")\n",
    "#df_nonRushNight = df.between_time(\"20:00\",\"6:30\")\n",
    "#df_nonRush = pd.concat(([df_nonRushDay,df_nonRushNight]))\n",
    "\n",
    "#counts_rush, norm_rush, error_rush\n",
    "#counts_norush, norm_norush, error_norush\n",
    "\n",
    "n_0 = (counts_rush+counts_norush)[:5].sum() # total rides weekdays\n",
    "n_1 = (counts_rush+counts_norush)[5:].sum() # total rides weekends\n",
    "\n",
    "P_0 = week_rush / n_0\n",
    "P_1 = weekend_rush / n_1\n",
    "\n",
    "print (\"The percentage of rush riders for week days is: \"\n",
    "       + str(P_0))\n",
    "\n",
    "print (\"The percentage of rush riders for weekends is: \"\n",
    "       + str(P_1))\n",
    "\n",
    "# Null Hypothesis: P_1 >= P_0 (The percentage of rush hour riders is biger during weekdays)\n",
    "\n",
    "if P_1 - P_0 >= 0:\n",
    "    # we are done\n",
    "    print (\"the Null holds\")\n",
    "else:\n",
    "    print (\"we must assess the statistical significance\")\n",
    "    \n",
    "#define the sample proportion first\n",
    "sp = (P_0 * n_0 + P_1 * n_1) / (n_1 + n_0)\n",
    "print (sp)\n",
    "\n",
    "# functions to calculate the standard error and p\n",
    "\n",
    "p = lambda p0, p1, n0, n1: (p0 * n0 + p1 * n1) / (n0 + n1)\n",
    "#standard error\n",
    "se = lambda p, n0, n1: np.sqrt(p * (1 - p) * (1.0 / n0 + 1.0 / n1)) \n",
    "\n",
    "\n",
    "zscore = lambda p0, p1, s : (p0 - p1) / s\n",
    "z = zscore(P_0, P_1, se(p(P_0, P_1, n_0, n_1), n_0, n_1))\n",
    "print (\"The z score is \" + str(z))\n",
    "\n",
    "## since the largest number we read off the table for is (way) smaller \n",
    "## than the value for our statistic \n",
    "## our p-value will be smaller than it would be if calculated using \n",
    "## (e.g.) .9998 (and in fact using 1.0000 which is the largest number \n",
    "## in the table). Using 0.9998 is a **conservative** approach. \n",
    "\n",
    "p_riders = 1 - 0.9999\n",
    "\n",
    "def report_result(p,a):\n",
    "    print ('is the p value ' + \n",
    "           '{0:.2f} smaller than the critical value {1:.2f}?'.format(p,a))\n",
    "    if p < a:\n",
    "        print (\"YES!\")\n",
    "    else: \n",
    "        print (\"NO!\")\n",
    "    \n",
    "    print ('the Null hypothesis is {}'.format(\\\n",
    "                            'rejected' if p < a  else 'not rejected') )\n",
    "    \n",
    "report_result(p_riders, alpha)"
   ]
  },
  {
   "cell_type": "code",
   "execution_count": null,
   "metadata": {
    "collapsed": true
   },
   "outputs": [],
   "source": []
  }
 ],
 "metadata": {
  "kernelspec": {
   "display_name": "PUI2016_Python2",
   "language": "python",
   "name": "pui2016_python2"
  },
  "language_info": {
   "codemirror_mode": {
    "name": "ipython",
    "version": 2
   },
   "file_extension": ".py",
   "mimetype": "text/x-python",
   "name": "python",
   "nbconvert_exporter": "python",
   "pygments_lexer": "ipython2",
   "version": "2.7.12"
  }
 },
 "nbformat": 4,
 "nbformat_minor": 0
}
