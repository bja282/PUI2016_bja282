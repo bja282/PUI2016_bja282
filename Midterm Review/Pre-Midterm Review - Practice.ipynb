{
 "cells": [
  {
   "cell_type": "markdown",
   "metadata": {},
   "source": [
    "# PUI Midterm Prep"
   ]
  },
  {
   "cell_type": "markdown",
   "metadata": {},
   "source": [
    "## Environment Check Up"
   ]
  },
  {
   "cell_type": "code",
   "execution_count": null,
   "metadata": {
    "collapsed": true
   },
   "outputs": [],
   "source": [
    "os.environ"
   ]
  },
  {
   "cell_type": "code",
   "execution_count": 8,
   "metadata": {
    "collapsed": false
   },
   "outputs": [
    {
     "data": {
      "text/plain": [
       "'/home/cusp/bja282/PUIdata'"
      ]
     },
     "execution_count": 8,
     "metadata": {},
     "output_type": "execute_result"
    }
   ],
   "source": [
    "os.getenv(\"PUIDATA\")"
   ]
  },
  {
   "cell_type": "code",
   "execution_count": 9,
   "metadata": {
    "collapsed": false
   },
   "outputs": [],
   "source": [
    "#For reference: setting up session-specific environmental variables\n",
    "#os.environ['PUIDATA'] = '/home/cusp/bja282/PUI2016_bja282/PUIDATA'\n",
    "#os.environ['PUI2016']='/home/cusp/bja282/PUI2016_bja282'\n",
    "#print(os.environ['PUIDATA'], os.environ['PUI2016'])\n",
    "#reference: http://stackoverflow.com/questions/5971635/setting-reading-up-environment-variables-in-python"
   ]
  },
  {
   "cell_type": "code",
   "execution_count": 11,
   "metadata": {
    "collapsed": false
   },
   "outputs": [
    {
     "data": {
      "text/plain": [
       "'/home/cusp/bja282/PUI2016'"
      ]
     },
     "execution_count": 11,
     "metadata": {},
     "output_type": "execute_result"
    }
   ],
   "source": [
    "os.getenv(\"PUI2016\")"
   ]
  },
  {
   "cell_type": "markdown",
   "metadata": {},
   "source": [
    "## Getting & Importing Data"
   ]
  },
  {
   "cell_type": "markdown",
   "metadata": {},
   "source": [
    "### Method 1: Curl using OS"
   ]
  },
  {
   "cell_type": "markdown",
   "metadata": {},
   "source": [
    "### Example 1: Grabbing a function"
   ]
  },
  {
   "cell_type": "code",
   "execution_count": 2,
   "metadata": {
    "collapsed": false
   },
   "outputs": [],
   "source": [
    "#Method 1: Curl using OS\n",
    "import sys\n",
    "import os as os\n",
    "import json\n",
    "from __future__ import print_function"
   ]
  },
  {
   "cell_type": "code",
   "execution_count": 3,
   "metadata": {
    "collapsed": false
   },
   "outputs": [],
   "source": [
    "curlcommand = \"curl -O\"\n",
    "url=\"https://raw.githubusercontent.com/fedhere/PUI2016_fb55/1ea83dcf1590d67c102e8dedcc4b7dcf27e73d29/HW4_fb55/getCitiBikeCSV.py\""
   ]
  },
  {
   "cell_type": "code",
   "execution_count": 4,
   "metadata": {
    "collapsed": false
   },
   "outputs": [
    {
     "data": {
      "text/plain": [
       "{'LANG': 'en_US.UTF-8', 'TERM': 'xterm-color', 'SHELL': '/bin/bash', 'MPLBACKEND': 'module://ipykernel.pylab.backend_inline', 'JPY_PARENT_PID': '5918', 'SHLVL': '0', 'DFDATA': '/gws/open/NYCOpenData/nycopendata/data', 'PUI2016': '/home/cusp/bja282/PUI2016', 'CLICOLOR': '1', 'PUIDATA': '/home/cusp/bja282/PUIdata', 'PWD': '/wingrdp/homedirs/bja282/PUI2016_bja282/Midterm Review', 'USER': 'bja282', 'HOME': '/home/cusp/bja282', 'PATH': '/opt/rh/v8314/root/usr/bin:/opt/rh/nodejs010/root/usr/bin:/opt/rh/rh-python34/root/usr/bin:/sbin:/usr/sbin:/bin:/usr/bin:/usr/local/bin', 'PAGER': 'cat', 'LD_LIBRARY_PATH': '/opt/rh/v8314/root/usr/lib64:/opt/rh/nodejs010/root/usr/lib64:/opt/rh/rh-python34/root/usr/lib64:/localhome/oracle/11g-client/product/11.2.0/client_1/lib', 'GIT_PAGER': 'cat'}"
      ]
     },
     "execution_count": 4,
     "metadata": {},
     "output_type": "execute_result"
    }
   ],
   "source": [
    "os.environ"
   ]
  },
  {
   "cell_type": "code",
   "execution_count": 5,
   "metadata": {
    "collapsed": false
   },
   "outputs": [
    {
     "data": {
      "text/plain": [
       "0"
      ]
     },
     "execution_count": 5,
     "metadata": {},
     "output_type": "execute_result"
    }
   ],
   "source": [
    "os.system(curlcommand+ \" \" + url) #Success.\n",
    "os.system(\"mv getCitiBikeCSV.py\" + \" \" + os.getenv(\"PUIDATA\")) #Directory set up successfully"
   ]
  },
  {
   "cell_type": "markdown",
   "metadata": {},
   "source": [
    "### Example 2: Unzipping and accessing a file."
   ]
  },
  {
   "cell_type": "code",
   "execution_count": 46,
   "metadata": {
    "collapsed": false
   },
   "outputs": [
    {
     "name": "stdout",
     "output_type": "stream",
     "text": [
      "  % Total    % Received % Xferd  Average Speed   Time    Time     Time  Current\n",
      "                                 Dload  Upload   Total   Spent    Left  Speed\n",
      "100 11.6M  100 11.6M    0     0  46.8M      0 --:--:-- --:--:-- --:--:-- 47.4M\n"
     ]
    }
   ],
   "source": [
    "import zipfile\n",
    "import geopandas as gpd\n",
    "##Get Pluto data, move to PUIDATA folder, and read it using Geopandas into a dataframe. \n",
    "!curl -O \"http://www1.nyc.gov/assets/planning/download/zip/data-maps/open-data/mn_mappluto_16v1.zip\"\n",
    "os.rename(\"mn_mappluto_16v1.zip\", \"mappluto.zip\")\n",
    "plutozip=\"mappluto.zip\"\n",
    "os.system(\"mv \" + plutozip + \" \" + os.getenv(\"PUIDATA\"))\n",
    "zf = zipfile.ZipFile(PUIDATA + \"/\" + plutozip, mode='r')\n",
    "zf.extractall(PUIDATA + \"/\" +  \"plutozip/\")\n",
    "zf.close()\n",
    "plutofile = PUIDATA +\"/plutozip/MNMapPLUTO.shp\""
   ]
  },
  {
   "cell_type": "code",
   "execution_count": 71,
   "metadata": {
    "collapsed": false
   },
   "outputs": [
    {
     "data": {
      "text/html": [
       "<div>\n",
       "<table border=\"1\" class=\"dataframe\">\n",
       "  <thead>\n",
       "    <tr style=\"text-align: right;\">\n",
       "      <th></th>\n",
       "      <th>APPBBL</th>\n",
       "      <th>APPDate</th>\n",
       "      <th>Address</th>\n",
       "      <th>AllZoning1</th>\n",
       "      <th>AllZoning2</th>\n",
       "      <th>AreaSource</th>\n",
       "      <th>AssessLand</th>\n",
       "      <th>AssessTot</th>\n",
       "      <th>BBL</th>\n",
       "      <th>BldgArea</th>\n",
       "      <th>...</th>\n",
       "      <th>YearAlter2</th>\n",
       "      <th>YearBuilt</th>\n",
       "      <th>ZMCode</th>\n",
       "      <th>ZipCode</th>\n",
       "      <th>ZoneDist1</th>\n",
       "      <th>ZoneDist2</th>\n",
       "      <th>ZoneDist3</th>\n",
       "      <th>ZoneDist4</th>\n",
       "      <th>ZoneMap</th>\n",
       "      <th>geometry</th>\n",
       "    </tr>\n",
       "  </thead>\n",
       "  <tbody>\n",
       "    <tr>\n",
       "      <th>0</th>\n",
       "      <td>0.000000e+00</td>\n",
       "      <td>None</td>\n",
       "      <td>1592 2 AVENUE</td>\n",
       "      <td>C1-9/TA</td>\n",
       "      <td>None</td>\n",
       "      <td>2</td>\n",
       "      <td>468000.0</td>\n",
       "      <td>1435950.0</td>\n",
       "      <td>1.015450e+09</td>\n",
       "      <td>10885</td>\n",
       "      <td>...</td>\n",
       "      <td>0</td>\n",
       "      <td>1920</td>\n",
       "      <td>None</td>\n",
       "      <td>10028</td>\n",
       "      <td>C1-9</td>\n",
       "      <td>None</td>\n",
       "      <td>None</td>\n",
       "      <td>None</td>\n",
       "      <td>9a</td>\n",
       "      <td>POLYGON ((997277.2344000041 221816.0936000049,...</td>\n",
       "    </tr>\n",
       "    <tr>\n",
       "      <th>1</th>\n",
       "      <td>1.007230e+09</td>\n",
       "      <td>11/30/2006</td>\n",
       "      <td>263 9 AVENUE</td>\n",
       "      <td>C1-5/R8</td>\n",
       "      <td>None</td>\n",
       "      <td>2</td>\n",
       "      <td>539984.0</td>\n",
       "      <td>11879993.0</td>\n",
       "      <td>1.007238e+09</td>\n",
       "      <td>89203</td>\n",
       "      <td>...</td>\n",
       "      <td>0</td>\n",
       "      <td>1914</td>\n",
       "      <td>None</td>\n",
       "      <td>10001</td>\n",
       "      <td>R8</td>\n",
       "      <td>None</td>\n",
       "      <td>None</td>\n",
       "      <td>None</td>\n",
       "      <td>8d</td>\n",
       "      <td>POLYGON ((984164.5626000017 211846.0703999996,...</td>\n",
       "    </tr>\n",
       "    <tr>\n",
       "      <th>2</th>\n",
       "      <td>0.000000e+00</td>\n",
       "      <td>None</td>\n",
       "      <td>310 EAST 109 STREET</td>\n",
       "      <td>R7A</td>\n",
       "      <td>None</td>\n",
       "      <td>2</td>\n",
       "      <td>140102.0</td>\n",
       "      <td>343271.0</td>\n",
       "      <td>1.016800e+09</td>\n",
       "      <td>12000</td>\n",
       "      <td>...</td>\n",
       "      <td>0</td>\n",
       "      <td>1910</td>\n",
       "      <td>None</td>\n",
       "      <td>10029</td>\n",
       "      <td>R7A</td>\n",
       "      <td>None</td>\n",
       "      <td>None</td>\n",
       "      <td>None</td>\n",
       "      <td>6b</td>\n",
       "      <td>POLYGON ((1000742.195800006 227910.6640000045,...</td>\n",
       "    </tr>\n",
       "    <tr>\n",
       "      <th>3</th>\n",
       "      <td>0.000000e+00</td>\n",
       "      <td>None</td>\n",
       "      <td>720 PARK AVENUE</td>\n",
       "      <td>R10/PI/LH-1A</td>\n",
       "      <td>R8B</td>\n",
       "      <td>2</td>\n",
       "      <td>5040000.0</td>\n",
       "      <td>30591900.0</td>\n",
       "      <td>1.013850e+09</td>\n",
       "      <td>203490</td>\n",
       "      <td>...</td>\n",
       "      <td>2006</td>\n",
       "      <td>1928</td>\n",
       "      <td>None</td>\n",
       "      <td>10021</td>\n",
       "      <td>R10</td>\n",
       "      <td>R8B</td>\n",
       "      <td>None</td>\n",
       "      <td>None</td>\n",
       "      <td>8c</td>\n",
       "      <td>POLYGON ((994007.6886000037 219880.428399995, ...</td>\n",
       "    </tr>\n",
       "    <tr>\n",
       "      <th>4</th>\n",
       "      <td>0.000000e+00</td>\n",
       "      <td>None</td>\n",
       "      <td>3 WEST 83 STREET</td>\n",
       "      <td>R8B</td>\n",
       "      <td>R10A</td>\n",
       "      <td>2</td>\n",
       "      <td>437850.0</td>\n",
       "      <td>1267200.0</td>\n",
       "      <td>1.011970e+09</td>\n",
       "      <td>13839</td>\n",
       "      <td>...</td>\n",
       "      <td>0</td>\n",
       "      <td>1900</td>\n",
       "      <td>None</td>\n",
       "      <td>10024</td>\n",
       "      <td>R8B</td>\n",
       "      <td>R10A</td>\n",
       "      <td>None</td>\n",
       "      <td>None</td>\n",
       "      <td>5d</td>\n",
       "      <td>POLYGON ((992273.6850000024 224863.4904000014,...</td>\n",
       "    </tr>\n",
       "  </tbody>\n",
       "</table>\n",
       "<p>5 rows × 90 columns</p>\n",
       "</div>"
      ],
      "text/plain": [
       "         APPBBL     APPDate              Address    AllZoning1 AllZoning2  \\\n",
       "0  0.000000e+00        None        1592 2 AVENUE       C1-9/TA       None   \n",
       "1  1.007230e+09  11/30/2006         263 9 AVENUE       C1-5/R8       None   \n",
       "2  0.000000e+00        None  310 EAST 109 STREET           R7A       None   \n",
       "3  0.000000e+00        None      720 PARK AVENUE  R10/PI/LH-1A        R8B   \n",
       "4  0.000000e+00        None     3 WEST 83 STREET           R8B       R10A   \n",
       "\n",
       "  AreaSource  AssessLand   AssessTot           BBL  BldgArea  \\\n",
       "0          2    468000.0   1435950.0  1.015450e+09     10885   \n",
       "1          2    539984.0  11879993.0  1.007238e+09     89203   \n",
       "2          2    140102.0    343271.0  1.016800e+09     12000   \n",
       "3          2   5040000.0  30591900.0  1.013850e+09    203490   \n",
       "4          2    437850.0   1267200.0  1.011970e+09     13839   \n",
       "\n",
       "                         ...                         YearAlter2  YearBuilt  \\\n",
       "0                        ...                                  0       1920   \n",
       "1                        ...                                  0       1914   \n",
       "2                        ...                                  0       1910   \n",
       "3                        ...                               2006       1928   \n",
       "4                        ...                                  0       1900   \n",
       "\n",
       "   ZMCode  ZipCode  ZoneDist1 ZoneDist2 ZoneDist3 ZoneDist4  ZoneMap  \\\n",
       "0    None    10028       C1-9      None      None      None       9a   \n",
       "1    None    10001         R8      None      None      None       8d   \n",
       "2    None    10029        R7A      None      None      None       6b   \n",
       "3    None    10021        R10       R8B      None      None       8c   \n",
       "4    None    10024        R8B      R10A      None      None       5d   \n",
       "\n",
       "                                            geometry  \n",
       "0  POLYGON ((997277.2344000041 221816.0936000049,...  \n",
       "1  POLYGON ((984164.5626000017 211846.0703999996,...  \n",
       "2  POLYGON ((1000742.195800006 227910.6640000045,...  \n",
       "3  POLYGON ((994007.6886000037 219880.428399995, ...  \n",
       "4  POLYGON ((992273.6850000024 224863.4904000014,...  \n",
       "\n",
       "[5 rows x 90 columns]"
      ]
     },
     "execution_count": 71,
     "metadata": {},
     "output_type": "execute_result"
    }
   ],
   "source": [
    "#Read Manhattan PLUTO shape file to a dataframe\n",
    "#geopandas reader resource: http://geopandas.org/io.html\n",
    "bsize = gpd.read_file(plutofile)\n",
    "bsize.head()"
   ]
  },
  {
   "cell_type": "markdown",
   "metadata": {},
   "source": [
    "### Method 2: Pandas Reader with URL"
   ]
  },
  {
   "cell_type": "code",
   "execution_count": 6,
   "metadata": {
    "collapsed": false
   },
   "outputs": [],
   "source": [
    "#Method 2: Pandas Reader\n",
    "from __future__ import print_function\n",
    "import pandas as pd"
   ]
  },
  {
   "cell_type": "code",
   "execution_count": 7,
   "metadata": {
    "collapsed": false
   },
   "outputs": [
    {
     "data": {
      "text/html": [
       "<div>\n",
       "<table border=\"1\" class=\"dataframe\">\n",
       "  <thead>\n",
       "    <tr style=\"text-align: right;\">\n",
       "      <th></th>\n",
       "      <th>Country</th>\n",
       "      <th>Region</th>\n",
       "    </tr>\n",
       "  </thead>\n",
       "  <tbody>\n",
       "    <tr>\n",
       "      <th>0</th>\n",
       "      <td>Algeria</td>\n",
       "      <td>AFRICA</td>\n",
       "    </tr>\n",
       "    <tr>\n",
       "      <th>1</th>\n",
       "      <td>Angola</td>\n",
       "      <td>AFRICA</td>\n",
       "    </tr>\n",
       "    <tr>\n",
       "      <th>2</th>\n",
       "      <td>Benin</td>\n",
       "      <td>AFRICA</td>\n",
       "    </tr>\n",
       "    <tr>\n",
       "      <th>3</th>\n",
       "      <td>Botswana</td>\n",
       "      <td>AFRICA</td>\n",
       "    </tr>\n",
       "    <tr>\n",
       "      <th>4</th>\n",
       "      <td>Burkina</td>\n",
       "      <td>AFRICA</td>\n",
       "    </tr>\n",
       "  </tbody>\n",
       "</table>\n",
       "</div>"
      ],
      "text/plain": [
       "    Country  Region\n",
       "0   Algeria  AFRICA\n",
       "1    Angola  AFRICA\n",
       "2     Benin  AFRICA\n",
       "3  Botswana  AFRICA\n",
       "4   Burkina  AFRICA"
      ]
     },
     "execution_count": 7,
     "metadata": {},
     "output_type": "execute_result"
    }
   ],
   "source": [
    "countries=pd.read_csv('https://raw.githubusercontent.com/cs109/2014_data/master/countries.csv')\n",
    "countries.head()"
   ]
  },
  {
   "cell_type": "markdown",
   "metadata": {},
   "source": [
    "### Method 3 - API connection"
   ]
  },
  {
   "cell_type": "code",
   "execution_count": 14,
   "metadata": {
    "collapsed": false
   },
   "outputs": [
    {
     "data": {
      "text/plain": [
       "[{u'long_name': u'Complejo Torre de las Telecomunicaciones',\n",
       "  u'short_name': u'Complejo Torre de las Telecomunicaciones',\n",
       "  u'types': [u'premise']},\n",
       " {u'long_name': u'Midtown',\n",
       "  u'short_name': u'Midtown',\n",
       "  u'types': [u'neighborhood', u'political']},\n",
       " {u'long_name': u'Manhattan',\n",
       "  u'short_name': u'Manhattan',\n",
       "  u'types': [u'political', u'sublocality', u'sublocality_level_1']},\n",
       " {u'long_name': u'New York',\n",
       "  u'short_name': u'New York',\n",
       "  u'types': [u'locality', u'political']},\n",
       " {u'long_name': u'New York County',\n",
       "  u'short_name': u'New York County',\n",
       "  u'types': [u'administrative_area_level_2', u'political']},\n",
       " {u'long_name': u'New York',\n",
       "  u'short_name': u'NY',\n",
       "  u'types': [u'administrative_area_level_1', u'political']},\n",
       " {u'long_name': u'United States',\n",
       "  u'short_name': u'US',\n",
       "  u'types': [u'country', u'political']},\n",
       " {u'long_name': u'10001', u'short_name': u'10001', u'types': [u'postal_code']}]"
      ]
     },
     "execution_count": 14,
     "metadata": {},
     "output_type": "execute_result"
    }
   ],
   "source": [
    "#Method 3 - API\n",
    "from get_jsonparsed_data import get_jsonparsed_data \n",
    "#THIS IS A FILE FEDERICA PUT TOGETHER. IT IS CURRENTLY LOCATED IN THE MIDTERM REVIEW FOLDER.\n",
    "\n",
    "#Connect to file where API key is stored.\n",
    "json_data = open(\"apidef.json\").read()\n",
    "myAPI = json.loads(json_data)\n",
    "\n",
    "#URL to connect to API. Longitude and Latitude currently point to Empire State Building. \n",
    "#Replace these with variable or inputs from separate file.\n",
    "url = (\"https://maps.googleapis.com/maps/api/geocode/json?latlng=\" +\n",
    "           \"%f,%f&key=%s\"%(40.7484, -73.9857, myAPI['GOOGLEAPI']))\n",
    "\n",
    "#[-1] is location of zip code.\n",
    "#Address components has all other relevant street level & address information.\n",
    "revgeo = get_jsonparsed_data(url)[\"results\"][0]['address_components']#[-1]\n",
    "revgeo #return API results from reverse Google API"
   ]
  },
  {
   "cell_type": "code",
   "execution_count": 27,
   "metadata": {
    "collapsed": false
   },
   "outputs": [
    {
     "data": {
      "text/html": [
       "<div>\n",
       "<table border=\"1\" class=\"dataframe\">\n",
       "  <thead>\n",
       "    <tr style=\"text-align: right;\">\n",
       "      <th></th>\n",
       "      <th>long_name</th>\n",
       "      <th>short_name</th>\n",
       "      <th>types</th>\n",
       "    </tr>\n",
       "  </thead>\n",
       "  <tbody>\n",
       "    <tr>\n",
       "      <th>0</th>\n",
       "      <td>10036</td>\n",
       "      <td>10036</td>\n",
       "      <td>[postal_code]</td>\n",
       "    </tr>\n",
       "  </tbody>\n",
       "</table>\n",
       "</div>"
      ],
      "text/plain": [
       "  long_name short_name          types\n",
       "0     10036      10036  [postal_code]"
      ]
     },
     "execution_count": 27,
     "metadata": {},
     "output_type": "execute_result"
    }
   ],
   "source": [
    "#Using Buses file from Assignment 2 as reference and basis...\n",
    "import pandas as pd\n",
    "import urllib2\n",
    "import json\n",
    "from pandas.io.json import json_normalize\n",
    "\n",
    "response = urllib2.urlopen(url)\n",
    "zipcodes = response.read()\n",
    "data = json.loads(zipcodes)\n",
    "\n",
    "#http://stackoverflow.com/questions/21104592/json-to-pandas-dataframe\n",
    "#Read API response into a normallized dataframe.\n",
    "df_zipcodes=json_normalize(data['results'][0]['address_components'][-1])\n",
    "df_zipcodes"
   ]
  },
  {
   "cell_type": "code",
   "execution_count": 35,
   "metadata": {
    "collapsed": false
   },
   "outputs": [
    {
     "name": "stderr",
     "output_type": "stream",
     "text": [
      "/opt/rh/anaconda/root/envs/PUI2016_Python2/lib/python2.7/site-packages/ipykernel/__main__.py:10: SettingWithCopyWarning: \n",
      "A value is trying to be set on a copy of a slice from a DataFrame.\n",
      "Try using .loc[row_indexer,col_indexer] = value instead\n",
      "\n",
      "See the caveats in the documentation: http://pandas.pydata.org/pandas-docs/stable/indexing.html#indexing-view-versus-copy\n"
     ]
    },
    {
     "data": {
      "text/html": [
       "<div>\n",
       "<table border=\"1\" class=\"dataframe\">\n",
       "  <thead>\n",
       "    <tr style=\"text-align: right;\">\n",
       "      <th></th>\n",
       "      <th>end station latitude</th>\n",
       "      <th>end station longitude</th>\n",
       "      <th>zipcodes</th>\n",
       "    </tr>\n",
       "  </thead>\n",
       "  <tbody>\n",
       "    <tr>\n",
       "      <th>0</th>\n",
       "      <td>40.722293</td>\n",
       "      <td>-73.991475</td>\n",
       "      <td>0.0</td>\n",
       "    </tr>\n",
       "    <tr>\n",
       "      <th>1</th>\n",
       "      <td>40.739355</td>\n",
       "      <td>-73.999318</td>\n",
       "      <td>0.0</td>\n",
       "    </tr>\n",
       "    <tr>\n",
       "      <th>2</th>\n",
       "      <td>40.749013</td>\n",
       "      <td>-73.988484</td>\n",
       "      <td>0.0</td>\n",
       "    </tr>\n",
       "    <tr>\n",
       "      <th>3</th>\n",
       "      <td>40.688515</td>\n",
       "      <td>-73.964763</td>\n",
       "      <td>0.0</td>\n",
       "    </tr>\n",
       "    <tr>\n",
       "      <th>4</th>\n",
       "      <td>40.726218</td>\n",
       "      <td>-73.983799</td>\n",
       "      <td>0.0</td>\n",
       "    </tr>\n",
       "  </tbody>\n",
       "</table>\n",
       "</div>"
      ],
      "text/plain": [
       "   end station latitude  end station longitude  zipcodes\n",
       "0             40.722293             -73.991475       0.0\n",
       "1             40.739355             -73.999318       0.0\n",
       "2             40.749013             -73.988484       0.0\n",
       "3             40.688515             -73.964763       0.0\n",
       "4             40.726218             -73.983799       0.0"
      ]
     },
     "execution_count": 35,
     "metadata": {},
     "output_type": "execute_result"
    }
   ],
   "source": [
    "import numpy as np\n",
    "\n",
    "#Reading in Citibike data. Will drop all columns except Latitude and Longitude to then use Reverse Google API to\n",
    "#look up and append zip code for each entry.\n",
    "datestring = '201501'\n",
    "df_citibike = pd.read_csv(os.getenv('PUIDATA')+'/' + datestring + '-citibike-tripdata.csv')\n",
    "df_latlong=df_citibike[['end station latitude','end station longitude']]\n",
    "\n",
    "#create a new column named \"zipcodes\" and fill it with zeroes, which will be replaced by zip code.\n",
    "df_latlong['zipcodes'] = np.zeros(len(df_citibike)) \n",
    "df_latlong.head()"
   ]
  },
  {
   "cell_type": "code",
   "execution_count": 31,
   "metadata": {
    "collapsed": false
   },
   "outputs": [
    {
     "name": "stderr",
     "output_type": "stream",
     "text": [
      "/opt/rh/anaconda/root/envs/PUI2016_Python2/lib/python2.7/site-packages/ipykernel/__main__.py:10: SettingWithCopyWarning: \n",
      "A value is trying to be set on a copy of a slice from a DataFrame\n",
      "\n",
      "See the caveats in the documentation: http://pandas.pydata.org/pandas-docs/stable/indexing.html#indexing-view-versus-copy\n"
     ]
    }
   ],
   "source": [
    "a = (df_latlong[['end station latitude', \n",
    "                'end station longitude']].values.astype(float))\n",
    "\n",
    "#IMPORTANT TO DROP DUPLICATES - saves on API calls.\n",
    "for x in pd.DataFrame(a).drop_duplicates().values:\n",
    "    url = (\"https://maps.googleapis.com/maps/api/geocode/json?latlng=\" +\n",
    "           \"%f,%f&key=%s\"%(\n",
    "            x[0], x[1], myAPI['GOOGLEAPI']))\n",
    "    revgeo = get_jsonparsed_data(url)[\"results\"][0]['address_components'][-1]\n",
    "    df_latlong['zipcodes'][(df_latlong['end station latitude'] == x[0]) * \n",
    "           (df_latlong['end station longitude'] == x[1])] = revgeo['long_name']"
   ]
  },
  {
   "cell_type": "code",
   "execution_count": 32,
   "metadata": {
    "collapsed": false
   },
   "outputs": [
    {
     "data": {
      "text/html": [
       "<div>\n",
       "<table border=\"1\" class=\"dataframe\">\n",
       "  <thead>\n",
       "    <tr style=\"text-align: right;\">\n",
       "      <th></th>\n",
       "      <th>end station latitude</th>\n",
       "      <th>end station longitude</th>\n",
       "      <th>zipcodes</th>\n",
       "    </tr>\n",
       "  </thead>\n",
       "  <tbody>\n",
       "    <tr>\n",
       "      <th>0</th>\n",
       "      <td>40.722293</td>\n",
       "      <td>-73.991475</td>\n",
       "      <td>10002</td>\n",
       "    </tr>\n",
       "    <tr>\n",
       "      <th>1</th>\n",
       "      <td>40.739355</td>\n",
       "      <td>-73.999318</td>\n",
       "      <td>10011</td>\n",
       "    </tr>\n",
       "    <tr>\n",
       "      <th>2</th>\n",
       "      <td>40.749013</td>\n",
       "      <td>-73.988484</td>\n",
       "      <td>10001</td>\n",
       "    </tr>\n",
       "    <tr>\n",
       "      <th>3</th>\n",
       "      <td>40.688515</td>\n",
       "      <td>-73.964763</td>\n",
       "      <td>11205</td>\n",
       "    </tr>\n",
       "    <tr>\n",
       "      <th>4</th>\n",
       "      <td>40.726218</td>\n",
       "      <td>-73.983799</td>\n",
       "      <td>10009</td>\n",
       "    </tr>\n",
       "  </tbody>\n",
       "</table>\n",
       "</div>"
      ],
      "text/plain": [
       "   end station latitude  end station longitude zipcodes\n",
       "0             40.722293             -73.991475    10002\n",
       "1             40.739355             -73.999318    10011\n",
       "2             40.749013             -73.988484    10001\n",
       "3             40.688515             -73.964763    11205\n",
       "4             40.726218             -73.983799    10009"
      ]
     },
     "execution_count": 32,
     "metadata": {},
     "output_type": "execute_result"
    }
   ],
   "source": [
    "df_latlong.head()"
   ]
  },
  {
   "cell_type": "markdown",
   "metadata": {},
   "source": [
    "### Method 4: Getting Data from the Data Facility\n",
    "#### Using DFDATA environmental variable"
   ]
  },
  {
   "cell_type": "markdown",
   "metadata": {},
   "source": [
    "From Federica's midterm prep: \"You may be asked to access data that also exists on the CUSP data facility, and that should be welcome by you because accessing data from the Data Facility is trivial when on compute:\n",
    "\n",
    "<ol>find the <i>path</i> of the data and read it in as if it were on compute (example below)</ol>\n"
   ]
  },
  {
   "cell_type": "code",
   "execution_count": 33,
   "metadata": {
    "collapsed": false
   },
   "outputs": [],
   "source": [
    "#Getting data from the data facility\n",
    "#Check environmental variable\n",
    "DFDATA=os.getenv('DFDATA')"
   ]
  },
  {
   "cell_type": "code",
   "execution_count": 34,
   "metadata": {
    "collapsed": false
   },
   "outputs": [
    {
     "data": {
      "text/html": [
       "<div>\n",
       "<table border=\"1\" class=\"dataframe\">\n",
       "  <thead>\n",
       "    <tr style=\"text-align: right;\">\n",
       "      <th></th>\n",
       "      <th>Zip Code</th>\n",
       "      <th>Building type (service class</th>\n",
       "      <th>Consumption (therms)</th>\n",
       "      <th>Consumption (GJ)</th>\n",
       "      <th>Utility/Data Source</th>\n",
       "    </tr>\n",
       "  </thead>\n",
       "  <tbody>\n",
       "    <tr>\n",
       "      <th>0</th>\n",
       "      <td>10001\\n(40.75025902143676, -73.99688630375988)</td>\n",
       "      <td>Residential</td>\n",
       "      <td>58338.0</td>\n",
       "      <td>6155.0</td>\n",
       "      <td>ConEd</td>\n",
       "    </tr>\n",
       "    <tr>\n",
       "      <th>1</th>\n",
       "      <td>10002\\n(40.71612146793143, -73.98583147024613)</td>\n",
       "      <td>Residential</td>\n",
       "      <td>550055.0</td>\n",
       "      <td>58034.0</td>\n",
       "      <td>ConEd</td>\n",
       "    </tr>\n",
       "    <tr>\n",
       "      <th>2</th>\n",
       "      <td>10003\\n(40.73194394755518, -73.98887214913032)</td>\n",
       "      <td>Residential</td>\n",
       "      <td>260502.0</td>\n",
       "      <td>27484.0</td>\n",
       "      <td>ConEd</td>\n",
       "    </tr>\n",
       "    <tr>\n",
       "      <th>3</th>\n",
       "      <td>10005\\n(40.7061257920717, -74.00858468583453)</td>\n",
       "      <td>Residential</td>\n",
       "      <td>265.0</td>\n",
       "      <td>28.0</td>\n",
       "      <td>ConEd</td>\n",
       "    </tr>\n",
       "    <tr>\n",
       "      <th>4</th>\n",
       "      <td>10006\\n(40.70825614030866, -74.01355356964149)</td>\n",
       "      <td>Residential</td>\n",
       "      <td>2076.0</td>\n",
       "      <td>219.0</td>\n",
       "      <td>ConEd</td>\n",
       "    </tr>\n",
       "  </tbody>\n",
       "</table>\n",
       "</div>"
      ],
      "text/plain": [
       "                                         Zip Code  \\\n",
       "0  10001\\n(40.75025902143676, -73.99688630375988)   \n",
       "1  10002\\n(40.71612146793143, -73.98583147024613)   \n",
       "2  10003\\n(40.73194394755518, -73.98887214913032)   \n",
       "3   10005\\n(40.7061257920717, -74.00858468583453)   \n",
       "4  10006\\n(40.70825614030866, -74.01355356964149)   \n",
       "\n",
       "  Building type (service class   Consumption (therms)    Consumption (GJ)   \\\n",
       "0                  Residential                 58338.0              6155.0   \n",
       "1                  Residential                550055.0             58034.0   \n",
       "2                  Residential                260502.0             27484.0   \n",
       "3                  Residential                   265.0                28.0   \n",
       "4                  Residential                  2076.0               219.0   \n",
       "\n",
       "  Utility/Data Source  \n",
       "0               ConEd  \n",
       "1               ConEd  \n",
       "2               ConEd  \n",
       "3               ConEd  \n",
       "4               ConEd  "
      ]
     },
     "execution_count": 34,
     "metadata": {},
     "output_type": "execute_result"
    }
   ],
   "source": [
    "#Can get URL directly from data facility. Should be in format comparable to what's below.\n",
    "#Read in using pandas.\n",
    "df_gas=pd.read_csv(DFDATA + \"/uedp-fegm/1414245967/uedp-fegm\")\n",
    "df_gas.head()"
   ]
  },
  {
   "cell_type": "markdown",
   "metadata": {},
   "source": [
    "### Method 5: Getting Data using a function\n",
    "##### getCitiBikeCSV function was written by Federica for Citibike assignment and is stored in PUIDATA folder. "
   ]
  },
  {
   "cell_type": "code",
   "execution_count": 23,
   "metadata": {
    "collapsed": false
   },
   "outputs": [
    {
     "data": {
      "text/plain": [
       "<function getCitiBikeCSV.getCitiBikeCSV>"
      ]
     },
     "execution_count": 23,
     "metadata": {},
     "output_type": "execute_result"
    }
   ],
   "source": [
    "#CALLING UP A FUNCTION IN SEPARATE FOLDER\n",
    "PUIDATA=os.getenv('PUIDATA')\n",
    "import sys\n",
    "sys.path.insert(0, PUIDATA)\n",
    "from getCitiBikeCSV import getCitiBikeCSV\n",
    "getCitiBikeCSV #Confirming that it works properly."
   ]
  },
  {
   "cell_type": "code",
   "execution_count": 24,
   "metadata": {
    "collapsed": false,
    "scrolled": true
   },
   "outputs": [
    {
     "name": "stdout",
     "output_type": "stream",
     "text": [
      "('Downloading', '201501')\n",
      "file in place, you can continue\n",
      "Index([u'tripduration', u'starttime', u'stoptime', u'start station id',\n",
      "       u'start station name', u'start station latitude',\n",
      "       u'start station longitude', u'end station id', u'end station name',\n",
      "       u'end station latitude', u'end station longitude', u'bikeid',\n",
      "       u'usertype', u'birth year', u'gender'],\n",
      "      dtype='object')\n"
     ]
    }
   ],
   "source": [
    "datestring = '201501'\n",
    "getCitiBikeCSV(datestring)\n",
    "df_W = pd.read_csv(os.getenv('PUIDATA')+'/' + datestring + '-citibike-tripdata.csv')\n",
    "print (df_W.columns)"
   ]
  },
  {
   "cell_type": "markdown",
   "metadata": {},
   "source": [
    "## Joining Datasets"
   ]
  },
  {
   "cell_type": "markdown",
   "metadata": {},
   "source": [
    "Federica's commentary: Think about what the \"how\" option allows you to do: merge to get the <i>intersection</i> (only the rows in both dataframes), the <i>union</i> (all rows in both dataframes, with NaN where either one has missing values) or <i>left</i> and <i>right</i>, which iport teh values of the other dataframe on to the one you are merging to, but do not import rows that are only in the other dataframe. \n",
    "\n",
    "References: <br>\n",
    "http://pandas.pydata.org/pandas-docs/stable/generated/pandas.DataFrame.merge.html<br>\n",
    "https://github.com/fedhere/UInotebooks/blob/master/dataWrangling/PandasDataWrangling-Chap7.ipynb"
   ]
  },
  {
   "cell_type": "markdown",
   "metadata": {},
   "source": [
    "### Simple example:"
   ]
  },
  {
   "cell_type": "code",
   "execution_count": 57,
   "metadata": {
    "collapsed": false
   },
   "outputs": [
    {
     "data": {
      "text/html": [
       "<div>\n",
       "<table border=\"1\" class=\"dataframe\">\n",
       "  <thead>\n",
       "    <tr style=\"text-align: right;\">\n",
       "      <th></th>\n",
       "      <th>data1</th>\n",
       "      <th>key</th>\n",
       "    </tr>\n",
       "  </thead>\n",
       "  <tbody>\n",
       "    <tr>\n",
       "      <th>0</th>\n",
       "      <td>0</td>\n",
       "      <td>b</td>\n",
       "    </tr>\n",
       "    <tr>\n",
       "      <th>1</th>\n",
       "      <td>1</td>\n",
       "      <td>b</td>\n",
       "    </tr>\n",
       "    <tr>\n",
       "      <th>2</th>\n",
       "      <td>2</td>\n",
       "      <td>a</td>\n",
       "    </tr>\n",
       "    <tr>\n",
       "      <th>3</th>\n",
       "      <td>3</td>\n",
       "      <td>c</td>\n",
       "    </tr>\n",
       "    <tr>\n",
       "      <th>4</th>\n",
       "      <td>4</td>\n",
       "      <td>a</td>\n",
       "    </tr>\n",
       "    <tr>\n",
       "      <th>5</th>\n",
       "      <td>5</td>\n",
       "      <td>a</td>\n",
       "    </tr>\n",
       "    <tr>\n",
       "      <th>6</th>\n",
       "      <td>6</td>\n",
       "      <td>b</td>\n",
       "    </tr>\n",
       "  </tbody>\n",
       "</table>\n",
       "</div>"
      ],
      "text/plain": [
       "   data1 key\n",
       "0      0   b\n",
       "1      1   b\n",
       "2      2   a\n",
       "3      3   c\n",
       "4      4   a\n",
       "5      5   a\n",
       "6      6   b"
      ]
     },
     "execution_count": 57,
     "metadata": {},
     "output_type": "execute_result"
    }
   ],
   "source": [
    "from pandas import Series, DataFrame\n",
    "import pandas\n",
    "import pandas as pd\n",
    "\n",
    "df1 = DataFrame({'key': ['b', 'b', 'a', 'c', 'a', 'a', 'b'], 'data1': range(7)})\n",
    "df2 = DataFrame({'key': ['a', 'b', 'd'], 'data2': range(3)})\n",
    "\n",
    "df1"
   ]
  },
  {
   "cell_type": "code",
   "execution_count": 58,
   "metadata": {
    "collapsed": false
   },
   "outputs": [
    {
     "data": {
      "text/html": [
       "<div>\n",
       "<table border=\"1\" class=\"dataframe\">\n",
       "  <thead>\n",
       "    <tr style=\"text-align: right;\">\n",
       "      <th></th>\n",
       "      <th>data2</th>\n",
       "      <th>key</th>\n",
       "    </tr>\n",
       "  </thead>\n",
       "  <tbody>\n",
       "    <tr>\n",
       "      <th>0</th>\n",
       "      <td>0</td>\n",
       "      <td>a</td>\n",
       "    </tr>\n",
       "    <tr>\n",
       "      <th>1</th>\n",
       "      <td>1</td>\n",
       "      <td>b</td>\n",
       "    </tr>\n",
       "    <tr>\n",
       "      <th>2</th>\n",
       "      <td>2</td>\n",
       "      <td>d</td>\n",
       "    </tr>\n",
       "  </tbody>\n",
       "</table>\n",
       "</div>"
      ],
      "text/plain": [
       "   data2 key\n",
       "0      0   a\n",
       "1      1   b\n",
       "2      2   d"
      ]
     },
     "execution_count": 58,
     "metadata": {},
     "output_type": "execute_result"
    }
   ],
   "source": [
    "df2"
   ]
  },
  {
   "cell_type": "code",
   "execution_count": 59,
   "metadata": {
    "collapsed": false
   },
   "outputs": [
    {
     "data": {
      "text/html": [
       "<div>\n",
       "<table border=\"1\" class=\"dataframe\">\n",
       "  <thead>\n",
       "    <tr style=\"text-align: right;\">\n",
       "      <th></th>\n",
       "      <th>data1</th>\n",
       "      <th>key</th>\n",
       "      <th>data2</th>\n",
       "    </tr>\n",
       "  </thead>\n",
       "  <tbody>\n",
       "    <tr>\n",
       "      <th>0</th>\n",
       "      <td>0</td>\n",
       "      <td>b</td>\n",
       "      <td>1</td>\n",
       "    </tr>\n",
       "    <tr>\n",
       "      <th>1</th>\n",
       "      <td>1</td>\n",
       "      <td>b</td>\n",
       "      <td>1</td>\n",
       "    </tr>\n",
       "    <tr>\n",
       "      <th>2</th>\n",
       "      <td>6</td>\n",
       "      <td>b</td>\n",
       "      <td>1</td>\n",
       "    </tr>\n",
       "    <tr>\n",
       "      <th>3</th>\n",
       "      <td>2</td>\n",
       "      <td>a</td>\n",
       "      <td>0</td>\n",
       "    </tr>\n",
       "    <tr>\n",
       "      <th>4</th>\n",
       "      <td>4</td>\n",
       "      <td>a</td>\n",
       "      <td>0</td>\n",
       "    </tr>\n",
       "    <tr>\n",
       "      <th>5</th>\n",
       "      <td>5</td>\n",
       "      <td>a</td>\n",
       "      <td>0</td>\n",
       "    </tr>\n",
       "  </tbody>\n",
       "</table>\n",
       "</div>"
      ],
      "text/plain": [
       "   data1 key  data2\n",
       "0      0   b      1\n",
       "1      1   b      1\n",
       "2      6   b      1\n",
       "3      2   a      0\n",
       "4      4   a      0\n",
       "5      5   a      0"
      ]
     },
     "execution_count": 59,
     "metadata": {},
     "output_type": "execute_result"
    }
   ],
   "source": [
    "pd.merge(df1, df2)"
   ]
  },
  {
   "cell_type": "code",
   "execution_count": 62,
   "metadata": {
    "collapsed": false
   },
   "outputs": [
    {
     "data": {
      "text/html": [
       "<div>\n",
       "<table border=\"1\" class=\"dataframe\">\n",
       "  <thead>\n",
       "    <tr style=\"text-align: right;\">\n",
       "      <th></th>\n",
       "      <th>data1</th>\n",
       "      <th>key</th>\n",
       "      <th>data2</th>\n",
       "    </tr>\n",
       "  </thead>\n",
       "  <tbody>\n",
       "    <tr>\n",
       "      <th>0</th>\n",
       "      <td>0</td>\n",
       "      <td>b</td>\n",
       "      <td>1</td>\n",
       "    </tr>\n",
       "    <tr>\n",
       "      <th>1</th>\n",
       "      <td>1</td>\n",
       "      <td>b</td>\n",
       "      <td>1</td>\n",
       "    </tr>\n",
       "    <tr>\n",
       "      <th>2</th>\n",
       "      <td>6</td>\n",
       "      <td>b</td>\n",
       "      <td>1</td>\n",
       "    </tr>\n",
       "    <tr>\n",
       "      <th>3</th>\n",
       "      <td>2</td>\n",
       "      <td>a</td>\n",
       "      <td>0</td>\n",
       "    </tr>\n",
       "    <tr>\n",
       "      <th>4</th>\n",
       "      <td>4</td>\n",
       "      <td>a</td>\n",
       "      <td>0</td>\n",
       "    </tr>\n",
       "    <tr>\n",
       "      <th>5</th>\n",
       "      <td>5</td>\n",
       "      <td>a</td>\n",
       "      <td>0</td>\n",
       "    </tr>\n",
       "  </tbody>\n",
       "</table>\n",
       "</div>"
      ],
      "text/plain": [
       "   data1 key  data2\n",
       "0      0   b      1\n",
       "1      1   b      1\n",
       "2      6   b      1\n",
       "3      2   a      0\n",
       "4      4   a      0\n",
       "5      5   a      0"
      ]
     },
     "execution_count": 62,
     "metadata": {},
     "output_type": "execute_result"
    }
   ],
   "source": [
    "pd.merge(df1, df2, on=\"key\", how=\"inner\")"
   ]
  },
  {
   "cell_type": "markdown",
   "metadata": {},
   "source": [
    "### Advanced Example from HW6:"
   ]
  },
  {
   "cell_type": "code",
   "execution_count": 65,
   "metadata": {
    "collapsed": true
   },
   "outputs": [],
   "source": [
    "#Get Energy data using API call, then load that data into a dataframe. \n",
    "#https://dev.socrata.com/foundry/data.cityofnewyork.us/7drc-shp9\n",
    "query = (\"https://data.cityofnewyork.us/resource/m46j-75iy.json\")\n",
    "raw_data = pd.read_json(query)\t\n",
    "df_nrg = pd.DataFrame(raw_data)"
   ]
  },
  {
   "cell_type": "code",
   "execution_count": 68,
   "metadata": {
    "collapsed": false
   },
   "outputs": [],
   "source": [
    "#Check columns:\n",
    "#df_nrg.columns\n",
    "#bsize.columns"
   ]
  },
  {
   "cell_type": "code",
   "execution_count": 72,
   "metadata": {
    "collapsed": false
   },
   "outputs": [
    {
     "data": {
      "text/plain": [
       "0        918919.0\n",
       "1             NaN\n",
       "2         64200.0\n",
       "3             NaN\n",
       "4         50000.0\n",
       "5         61800.0\n",
       "6        102198.0\n",
       "7         46620.0\n",
       "8             NaN\n",
       "9         54029.0\n",
       "10            0.0\n",
       "11       171502.0\n",
       "12            NaN\n",
       "13        68750.0\n",
       "14            NaN\n",
       "15            NaN\n",
       "16       330000.0\n",
       "17            NaN\n",
       "18        69160.0\n",
       "19        52974.0\n",
       "20        82200.0\n",
       "21        63360.0\n",
       "22        52960.0\n",
       "23            NaN\n",
       "24            NaN\n",
       "25       154754.0\n",
       "26       465667.0\n",
       "27            NaN\n",
       "28        68329.0\n",
       "29        66546.0\n",
       "           ...   \n",
       "16140         NaN\n",
       "16141         NaN\n",
       "16142         NaN\n",
       "16143         NaN\n",
       "16144         NaN\n",
       "16145         NaN\n",
       "16146         NaN\n",
       "16147         NaN\n",
       "16148         NaN\n",
       "16149         NaN\n",
       "16150         NaN\n",
       "16151         NaN\n",
       "16152         NaN\n",
       "16153         NaN\n",
       "16154         NaN\n",
       "16155         NaN\n",
       "16156         NaN\n",
       "16157         NaN\n",
       "16158         NaN\n",
       "16159         NaN\n",
       "16160         NaN\n",
       "16161         NaN\n",
       "16162         NaN\n",
       "16163         NaN\n",
       "16164         NaN\n",
       "16165         NaN\n",
       "16166         NaN\n",
       "16167         NaN\n",
       "16168         NaN\n",
       "16169         NaN\n",
       "Name: reported_property_floor_area_building_s_ft, dtype: float64"
      ]
     },
     "execution_count": 72,
     "metadata": {},
     "output_type": "execute_result"
    }
   ],
   "source": [
    "#Drop unnecessary columns\n",
    "#Format appropriately for later manipulation (pd.to_numeric)\n",
    "\n",
    "bsize = bsize[['UnitsTotal','BBL']]\n",
    "df_nrg = df_nrg[['zip_code', 'site_eui_kbtu_ft2', 'nyc_borough_block_and_lot_bbl', 'reported_property_floor_area_building_s_ft']]\n",
    "pd.to_numeric(df_nrg['site_eui_kbtu_ft2'], errors='coerce')\n",
    "pd.to_numeric(df_nrg['reported_property_floor_area_building_s_ft'], errors='coerce')"
   ]
  },
  {
   "cell_type": "code",
   "execution_count": 74,
   "metadata": {
    "collapsed": false
   },
   "outputs": [
    {
     "data": {
      "text/html": [
       "<div>\n",
       "<table border=\"1\" class=\"dataframe\">\n",
       "  <thead>\n",
       "    <tr style=\"text-align: right;\">\n",
       "      <th></th>\n",
       "      <th>zip_code</th>\n",
       "      <th>site_eui_kbtu_ft2</th>\n",
       "      <th>BBL</th>\n",
       "      <th>reported_property_floor_area_building_s_ft</th>\n",
       "      <th>UnitsTotal</th>\n",
       "    </tr>\n",
       "  </thead>\n",
       "  <tbody>\n",
       "    <tr>\n",
       "      <th>0</th>\n",
       "      <td>10001.0</td>\n",
       "      <td>NaN</td>\n",
       "      <td>1.006700e+09</td>\n",
       "      <td>#N/A</td>\n",
       "      <td>1</td>\n",
       "    </tr>\n",
       "    <tr>\n",
       "      <th>1</th>\n",
       "      <td>10009.0</td>\n",
       "      <td>NaN</td>\n",
       "      <td>1.004370e+09</td>\n",
       "      <td>#N/A</td>\n",
       "      <td>4</td>\n",
       "    </tr>\n",
       "    <tr>\n",
       "      <th>2</th>\n",
       "      <td>10022.0</td>\n",
       "      <td>125.4</td>\n",
       "      <td>1.013110e+09</td>\n",
       "      <td>330000</td>\n",
       "      <td>56</td>\n",
       "    </tr>\n",
       "    <tr>\n",
       "      <th>3</th>\n",
       "      <td>10003.0</td>\n",
       "      <td>NaN</td>\n",
       "      <td>1.009220e+09</td>\n",
       "      <td>#N/A</td>\n",
       "      <td>148</td>\n",
       "    </tr>\n",
       "    <tr>\n",
       "      <th>4</th>\n",
       "      <td>NaN</td>\n",
       "      <td>NaN</td>\n",
       "      <td>1.007400e+09</td>\n",
       "      <td>68329</td>\n",
       "      <td>1</td>\n",
       "    </tr>\n",
       "  </tbody>\n",
       "</table>\n",
       "</div>"
      ],
      "text/plain": [
       "   zip_code site_eui_kbtu_ft2           BBL  \\\n",
       "0   10001.0               NaN  1.006700e+09   \n",
       "1   10009.0               NaN  1.004370e+09   \n",
       "2   10022.0             125.4  1.013110e+09   \n",
       "3   10003.0               NaN  1.009220e+09   \n",
       "4       NaN               NaN  1.007400e+09   \n",
       "\n",
       "  reported_property_floor_area_building_s_ft  UnitsTotal  \n",
       "0                                       #N/A           1  \n",
       "1                                       #N/A           4  \n",
       "2                                     330000          56  \n",
       "3                                       #N/A         148  \n",
       "4                                      68329           1  "
      ]
     },
     "execution_count": 74,
     "metadata": {},
     "output_type": "execute_result"
    }
   ],
   "source": [
    "# preparing columns - columns must have same name in order to merge.\n",
    "df_nrg.rename(columns={'nyc_borough_block_and_lot_bbl':'BBL'}, inplace=True)\n",
    "#merge\n",
    "bblnrgdata = pd.merge(df_nrg, bsize, how='inner', on='BBL')\n",
    "#check output\n",
    "bblnrgdata.head()"
   ]
  },
  {
   "cell_type": "markdown",
   "metadata": {},
   "source": [
    "## Dropping and Reducing Data"
   ]
  },
  {
   "cell_type": "markdown",
   "metadata": {},
   "source": [
    "### dropping nan values in a dataframe\n",
    "    df['ageM'].dropna(inplace = True)\n",
    "    df['ageF'].dropna(inplace = True)"
   ]
  },
  {
   "cell_type": "markdown",
   "metadata": {},
   "source": [
    "DataFrame.apply(func, axis=0, broadcast=False, raw=False, reduce=None, args=(), **kwds)\n",
    "\n",
    "    Applies function along input axis of DataFrame.\n",
    "\n",
    "    Objects passed to functions are Series objects having index either the DataFrame’s index (axis=0) or the columns (axis=1). Return type depends on whether passed function aggregates, or the reduce argument if the DataFrame is empty."
   ]
  },
  {
   "cell_type": "markdown",
   "metadata": {},
   "source": [
    "inline functions tutorial and reference: http://www.python-course.eu/lambda.php<br>\n",
    "apply and map tutorial and reference: http://chrisalbon.com/python/pandas_apply_operations_to_dataframes.html"
   ]
  },
  {
   "cell_type": "markdown",
   "metadata": {},
   "source": [
    "### Apply"
   ]
  },
  {
   "cell_type": "code",
   "execution_count": 98,
   "metadata": {
    "collapsed": false,
    "scrolled": true
   },
   "outputs": [
    {
     "data": {
      "text/plain": [
       "Cochice       JASON\n",
       "Pima          MOLLY\n",
       "Santa Cruz     TINA\n",
       "Maricopa       JAKE\n",
       "Yuma            AMY\n",
       "Name: name, dtype: object"
      ]
     },
     "execution_count": 98,
     "metadata": {},
     "output_type": "execute_result"
    }
   ],
   "source": [
    "data = {'name': ['Jason', 'Molly', 'Tina', 'Jake', 'Amy'], \n",
    "        'year': [2012, 2012, 2013, 2014, 2014], \n",
    "        'reports': [4, 24, 31, 2, 3],\n",
    "        'coverage': [25, 94, 57, 62, 70]}\n",
    "df = pd.DataFrame(data, index = ['Cochice', 'Pima', 'Santa Cruz', 'Maricopa', 'Yuma'])\n",
    "df\n",
    "\n",
    "capitalizer = lambda x: x.upper()\n",
    "\n",
    "df['name'].apply(capitalizer)"
   ]
  },
  {
   "cell_type": "markdown",
   "metadata": {},
   "source": [
    "#Map the capitalizer lambda function over each element in the series 'name'\n",
    "#map() applies an operation over each element of a series"
   ]
  },
  {
   "cell_type": "code",
   "execution_count": 107,
   "metadata": {
    "collapsed": false
   },
   "outputs": [],
   "source": [
    "df['name']=df['name'].map(capitalizer)\n",
    "df['coverage']=df['coverage'].map(np.square)"
   ]
  },
  {
   "cell_type": "code",
   "execution_count": 108,
   "metadata": {
    "collapsed": false
   },
   "outputs": [
    {
     "data": {
      "text/html": [
       "<div>\n",
       "<table border=\"1\" class=\"dataframe\">\n",
       "  <thead>\n",
       "    <tr style=\"text-align: right;\">\n",
       "      <th></th>\n",
       "      <th>coverage</th>\n",
       "      <th>name</th>\n",
       "      <th>reports</th>\n",
       "      <th>year</th>\n",
       "    </tr>\n",
       "  </thead>\n",
       "  <tbody>\n",
       "    <tr>\n",
       "      <th>Cochice</th>\n",
       "      <td>25.0</td>\n",
       "      <td>JASON</td>\n",
       "      <td>4</td>\n",
       "      <td>2012</td>\n",
       "    </tr>\n",
       "    <tr>\n",
       "      <th>Pima</th>\n",
       "      <td>94.0</td>\n",
       "      <td>MOLLY</td>\n",
       "      <td>24</td>\n",
       "      <td>2012</td>\n",
       "    </tr>\n",
       "    <tr>\n",
       "      <th>Santa Cruz</th>\n",
       "      <td>57.0</td>\n",
       "      <td>TINA</td>\n",
       "      <td>31</td>\n",
       "      <td>2013</td>\n",
       "    </tr>\n",
       "    <tr>\n",
       "      <th>Maricopa</th>\n",
       "      <td>62.0</td>\n",
       "      <td>JAKE</td>\n",
       "      <td>2</td>\n",
       "      <td>2014</td>\n",
       "    </tr>\n",
       "    <tr>\n",
       "      <th>Yuma</th>\n",
       "      <td>70.0</td>\n",
       "      <td>AMY</td>\n",
       "      <td>3</td>\n",
       "      <td>2014</td>\n",
       "    </tr>\n",
       "  </tbody>\n",
       "</table>\n",
       "</div>"
      ],
      "text/plain": [
       "            coverage   name  reports  year\n",
       "Cochice         25.0  JASON        4  2012\n",
       "Pima            94.0  MOLLY       24  2012\n",
       "Santa Cruz      57.0   TINA       31  2013\n",
       "Maricopa        62.0   JAKE        2  2014\n",
       "Yuma            70.0    AMY        3  2014"
      ]
     },
     "execution_count": 108,
     "metadata": {},
     "output_type": "execute_result"
    }
   ],
   "source": [
    "df.head()"
   ]
  },
  {
   "cell_type": "markdown",
   "metadata": {},
   "source": [
    "### Lambda and Mapping Combo Examples"
   ]
  },
  {
   "cell_type": "code",
   "execution_count": 82,
   "metadata": {
    "collapsed": false
   },
   "outputs": [
    {
     "data": {
      "text/plain": [
       "4.0"
      ]
     },
     "execution_count": 82,
     "metadata": {},
     "output_type": "execute_result"
    }
   ],
   "source": [
    "#Lambda: Sets up inline function or manipulation. Good for defining inline formulas without needing to \n",
    "#declare new variables. (Remember to make sure that these formulas have proper parentheses so that order\n",
    "#of operations is clear.)\n",
    "f = lambda x, y : (x + y) * 2\n",
    "f(1., 1.)"
   ]
  },
  {
   "cell_type": "code",
   "execution_count": 93,
   "metadata": {
    "collapsed": false
   },
   "outputs": [
    {
     "name": "stdout",
     "output_type": "stream",
     "text": [
      "Fahrenheit:  [102.56, 97.7, 99.14, 100.03999999999999]\n",
      "Celcius:  [39.2, 36.5, 37.300000000000004, 37.8]\n"
     ]
    }
   ],
   "source": [
    "#Map\n",
    "#Convert to and from Farenheit and Celcius using map and lambda\n",
    "\n",
    "Celsius = [39.2, 36.5, 37.3, 37.8]\n",
    "Fahrenheit = map(lambda x: (float(9)/5)*x + 32, Celsius)\n",
    "\n",
    "print(\"Fahrenheit: \", Fahrenheit)\n",
    "\n",
    "#C = map(lambda x: (float(5)/9)*(x-32), Fahrenheit)\n",
    "print(\"Celcius: \", C)"
   ]
  },
  {
   "cell_type": "code",
   "execution_count": 94,
   "metadata": {
    "collapsed": false
   },
   "outputs": [
    {
     "data": {
      "text/plain": [
       "[18, 14, 14, 14]"
      ]
     },
     "execution_count": 94,
     "metadata": {},
     "output_type": "execute_result"
    }
   ],
   "source": [
    "#Apply map to multiple lists at once\n",
    "a = [1,2,3,4]\n",
    "b = [17,12,11,10]\n",
    "map(lambda x,y:x+y, a,b)"
   ]
  },
  {
   "cell_type": "markdown",
   "metadata": {},
   "source": [
    "## Hypothesis Testing"
   ]
  },
  {
   "cell_type": "code",
   "execution_count": 119,
   "metadata": {
    "collapsed": false
   },
   "outputs": [],
   "source": [
    "#Check slides included in folder for help. "
   ]
  },
  {
   "cell_type": "markdown",
   "metadata": {
    "collapsed": true
   },
   "source": [
    "## Plotting"
   ]
  },
  {
   "cell_type": "markdown",
   "metadata": {},
   "source": [
    "### plotting histograms \n",
    "    ax = pl.figure(figsize = (10,5)).subplots(1,2)\n",
    "\n",
    "    bins = np.arange(10, 110, 10) \n",
    "    axM = df.ageM.groupby(pd.cut(df.ageM, bins)).agg([count_nonzero]).plot(kind='bar', \n",
    "                                                                    legend=False, ax=ax[0])\n",
    "    axM.set_title(\"male riders\")\n",
    "    axF = df.ageF.groupby(pd.cut(df.ageF, bins)).agg([count_nonzero]).plot(kind='bar',\n",
    "                                                                    legend=False, ax=ax[1])\n",
    "    axF.set_title(\"female riders\")\n",
    "\n"
   ]
  },
  {
   "cell_type": "markdown",
   "metadata": {},
   "source": [
    "Reference:\n",
    "\n",
    "    numpy.arange([start, ]stop, [step, ]dtype=None)¶ (https://docs.scipy.org/doc/numpy/reference/generated/numpy.arange.html)"
   ]
  },
  {
   "cell_type": "markdown",
   "metadata": {},
   "source": [
    "### Cumulative Plots\n",
    "\n",
    "    csM=df.ageM.groupby(pd.cut(df.ageM, bins)).agg([count_nonzero]).cumsum()\n",
    "\n",
    "    csF=df.ageF.groupby(pd.cut(df.ageF, bins)).agg([count_nonzero]).cumsum()\n",
    "\n",
    "    print (np.abs(csM / csM.max()-csF / csF.max()))\n",
    "\n",
    "    pl.plot(bins[:-1] + 5, csM / csM.max(), label = \"M\")\n",
    "    pl.plot(bins[:-1] + 5, csF / csF.max(), label = \"F\")\n",
    "    pl.plot(bins[:-1] + 5, np.sqrt(csF / csF.max() - csM / csM.max())**2, 'k-',\n",
    "            label = \"difference\")\n",
    "\n",
    "    pl.legend()"
   ]
  },
  {
   "cell_type": "markdown",
   "metadata": {},
   "source": [
    "## Statistic Reference & Tests:"
   ]
  },
  {
   "cell_type": "markdown",
   "metadata": {},
   "source": [
    "#### The law of large numbers \n",
    "is a principle of probability according to which the frequencies of events with the same likelihood of occurrence even out, given enough trials or instances. As the number of experiments increases, the actual ratio of outcomes will converge on the theoretical, or expected, ratio of outcomes."
   ]
  },
  {
   "cell_type": "markdown",
   "metadata": {},
   "source": [
    "### KS Test"
   ]
  },
  {
   "cell_type": "code",
   "execution_count": 142,
   "metadata": {
    "collapsed": false
   },
   "outputs": [
    {
     "name": "stdout",
     "output_type": "stream",
     "text": [
      "Ks_2sampResult(statistic=0.7, pvalue=0.0068986471009461281)\n"
     ]
    },
    {
     "name": "stderr",
     "output_type": "stream",
     "text": [
      "/opt/rh/anaconda/root/envs/PUI2016_Python2/lib/python2.7/site-packages/ipykernel/__main__.py:4: DeprecationWarning: This function is deprecated. Please call randint(1, 200 + 1) instead\n",
      "/opt/rh/anaconda/root/envs/PUI2016_Python2/lib/python2.7/site-packages/ipykernel/__main__.py:5: DeprecationWarning: This function is deprecated. Please call randint(1, 800 + 1) instead\n"
     ]
    }
   ],
   "source": [
    "#KS Test:\n",
    "import scipy.stats\n",
    "alpha=.05\n",
    "x=np.random.random_integers(1,200, 10)\n",
    "y=np.random.random_integers(1, 800, 10)\n",
    "ks = scipy.stats.ks_2samp(x, y)\n",
    "print (ks)"
   ]
  },
  {
   "cell_type": "code",
   "execution_count": 144,
   "metadata": {
    "collapsed": false
   },
   "outputs": [
    {
     "name": "stdout",
     "output_type": "stream",
     "text": [
      "the Null hypothesis that the samples come from identical distributions \n",
      "is rejected (p<0.05)\n"
     ]
    }
   ],
   "source": [
    "#KS Test Rejection or Acceptance of Null Hypothesis\n",
    "def printRejection(ksp, pv):\n",
    "    print (\"the Null hypothesis that the samples come from identical distributions \")\n",
    "\n",
    "    if ksp > pv: \n",
    "        print (\"cannot be rejected\")\n",
    "    else: \n",
    "        print (\"is rejected (p<{:.2f})\".format(pv))\n",
    "printRejection(ks[1], alpha)"
   ]
  },
  {
   "cell_type": "markdown",
   "metadata": {
    "collapsed": true
   },
   "source": [
    "### Pearson & Spearman Tests"
   ]
  },
  {
   "cell_type": "markdown",
   "metadata": {},
   "source": [
    "#### Pearson product moment correlation\n",
    "\n",
    "The Pearson correlation evaluates the <b>linear relationship</b> between two continuous variables. A relationship is linear when a change in one variable is associated with a proportional change in the other variable.\n",
    "\n",
    "For example, you might use a Pearson correlation to evaluate whether increases in temperature at your production facility are associated with decreasing thickness of your chocolate coating.\n",
    "\n",
    "#### Spearman rank-order correlation\n",
    "\n",
    "The Spearman correlation evaluates the <b>monotonic relationship</b> between two continuous or ordinal variables. In a monotonic relationship, the variables tend to change together, but not necessarily at a constant rate. The Spearman correlation coefficient is based on the ranked values for each variable rather than the raw data.\n",
    "\n",
    "Spearman correlation is often used to evaluate relationships involving ordinal variables. For example, you might use a Spearman correlation to evaluate whether the order in which employees complete a test exercise is related to the number of months they have been employed.\n",
    "\n",
    "It is always a good idea to examine the relationship between variables with a scatterplot. Correlation coefficients only measure linear (Pearson) or monotonic (Spearman) relationships. Other relationships are possible. "
   ]
  },
  {
   "cell_type": "code",
   "execution_count": null,
   "metadata": {
    "collapsed": true
   },
   "outputs": [],
   "source": []
  }
 ],
 "metadata": {
  "kernelspec": {
   "display_name": "PUI2016_Python2",
   "language": "python",
   "name": "pui2016_python2"
  },
  "language_info": {
   "codemirror_mode": {
    "name": "ipython",
    "version": 2
   },
   "file_extension": ".py",
   "mimetype": "text/x-python",
   "name": "python",
   "nbconvert_exporter": "python",
   "pygments_lexer": "ipython2",
   "version": "2.7.12"
  }
 },
 "nbformat": 4,
 "nbformat_minor": 0
}
